{
 "cells": [
  {
   "cell_type": "code",
   "execution_count": 2,
   "metadata": {
    "collapsed": false
   },
   "outputs": [],
   "source": [
    "import requests"
   ]
  },
  {
   "cell_type": "code",
   "execution_count": 3,
   "metadata": {
    "collapsed": false
   },
   "outputs": [
    {
     "data": {
      "text/plain": [
       "{'message': {'affenpinscher': [],\n",
       "  'african': [],\n",
       "  'airedale': [],\n",
       "  'akita': [],\n",
       "  'appenzeller': [],\n",
       "  'basenji': [],\n",
       "  'beagle': [],\n",
       "  'bluetick': [],\n",
       "  'borzoi': [],\n",
       "  'bouvier': [],\n",
       "  'boxer': [],\n",
       "  'brabancon': [],\n",
       "  'briard': [],\n",
       "  'bulldog': ['boston', 'french'],\n",
       "  'bullterrier': ['staffordshire'],\n",
       "  'cairn': [],\n",
       "  'chihuahua': [],\n",
       "  'chow': [],\n",
       "  'clumber': [],\n",
       "  'collie': ['border'],\n",
       "  'coonhound': [],\n",
       "  'corgi': ['cardigan'],\n",
       "  'dachshund': [],\n",
       "  'dane': ['great'],\n",
       "  'deerhound': ['scottish'],\n",
       "  'dhole': [],\n",
       "  'dingo': [],\n",
       "  'doberman': [],\n",
       "  'elkhound': ['norwegian'],\n",
       "  'entlebucher': [],\n",
       "  'eskimo': [],\n",
       "  'germanshepherd': [],\n",
       "  'greyhound': ['italian'],\n",
       "  'groenendael': [],\n",
       "  'hound': ['Ibizan', 'afghan', 'basset', 'blood', 'english', 'walker'],\n",
       "  'husky': [],\n",
       "  'keeshond': [],\n",
       "  'kelpie': [],\n",
       "  'komondor': [],\n",
       "  'kuvasz': [],\n",
       "  'labrador': [],\n",
       "  'leonberg': [],\n",
       "  'lhasa': [],\n",
       "  'malamute': [],\n",
       "  'malinois': [],\n",
       "  'maltese': [],\n",
       "  'mastiff': ['bull', 'tibetan'],\n",
       "  'mexicanhairless': [],\n",
       "  'mountain': ['bernese', 'swiss'],\n",
       "  'newfoundland': [],\n",
       "  'otterhound': [],\n",
       "  'papillon': [],\n",
       "  'pekinese': [],\n",
       "  'pembroke': [],\n",
       "  'pinscher': ['miniature'],\n",
       "  'pointer': ['german'],\n",
       "  'pomeranian': [],\n",
       "  'poodle': ['miniature', 'standard', 'toy'],\n",
       "  'pug': [],\n",
       "  'pyrenees': [],\n",
       "  'redbone': [],\n",
       "  'retriever': ['chesapeake', 'curly', 'flatcoated', 'golden'],\n",
       "  'ridgeback': ['rhodesian'],\n",
       "  'rottweiler': [],\n",
       "  'saluki': [],\n",
       "  'samoyed': [],\n",
       "  'schipperke': [],\n",
       "  'schnauzer': ['giant', 'miniature'],\n",
       "  'setter': ['english', 'gordon', 'irish'],\n",
       "  'sheepdog': ['english', 'shetland'],\n",
       "  'shiba': [],\n",
       "  'shihtzu': [],\n",
       "  'spaniel': ['blenheim',\n",
       "   'brittany',\n",
       "   'cocker',\n",
       "   'irish',\n",
       "   'japanese',\n",
       "   'sussex',\n",
       "   'welsh'],\n",
       "  'springer': ['english'],\n",
       "  'stbernard': [],\n",
       "  'terrier': ['american',\n",
       "   'australian',\n",
       "   'bedlington',\n",
       "   'border',\n",
       "   'dandie',\n",
       "   'fox',\n",
       "   'irish',\n",
       "   'kerryblue',\n",
       "   'lakeland',\n",
       "   'norfolk',\n",
       "   'norwich',\n",
       "   'patterdale',\n",
       "   'scottish',\n",
       "   'sealyham',\n",
       "   'silky',\n",
       "   'tibetan',\n",
       "   'toy',\n",
       "   'westhighland',\n",
       "   'wheaten',\n",
       "   'yorkshire'],\n",
       "  'vizsla': [],\n",
       "  'weimaraner': [],\n",
       "  'whippet': [],\n",
       "  'wolfhound': ['irish']},\n",
       " 'status': 'success'}"
      ]
     },
     "execution_count": 3,
     "metadata": {},
     "output_type": "execute_result"
    }
   ],
   "source": [
    "r = requests.get('https://dog.ceo/api/breeds/list/all')\n",
    "r.json()"
   ]
  },
  {
   "cell_type": "code",
   "execution_count": null,
   "metadata": {
    "collapsed": true
   },
   "outputs": [],
   "source": []
  }
 ],
 "metadata": {
  "kernelspec": {
   "display_name": "Python [Root]",
   "language": "python",
   "name": "Python [Root]"
  },
  "language_info": {
   "codemirror_mode": {
    "name": "ipython",
    "version": 3
   },
   "file_extension": ".py",
   "mimetype": "text/x-python",
   "name": "python",
   "nbconvert_exporter": "python",
   "pygments_lexer": "ipython3",
   "version": "3.5.2"
  }
 },
 "nbformat": 4,
 "nbformat_minor": 0
}
