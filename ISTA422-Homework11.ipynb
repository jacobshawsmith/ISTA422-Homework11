{
 "cells": [
  {
   "cell_type": "markdown",
   "metadata": {},
   "source": [
    "# Team JACK Homework 11 DOG API work\n",
    "\n",
    "### Data comes from https://dog.ceo/api\n",
    "\n",
    "# Code Description\n",
    " Takes a list of dog breeds and creates a json of sub breeds for the breeds"
   ]
  },
  {
   "cell_type": "code",
   "execution_count": 1,
   "metadata": {
    "collapsed": false
   },
   "outputs": [],
   "source": [
    "import requests"
   ]
  },
  {
   "cell_type": "code",
   "execution_count": 2,
   "metadata": {
    "collapsed": false
   },
   "outputs": [
    {
     "name": "stdout",
     "output_type": "stream",
     "text": [
      "{'status': 'success', 'message': ['Ibizan', 'afghan', 'basset', 'blood', 'english', 'walker']}\n",
      "{'status': 'success', 'message': ['chesapeake', 'curly', 'flatcoated', 'golden']}\n"
     ]
    }
   ],
   "source": [
    "breeds = ['hound', 'retriever']\n",
    "for i in breeds:\n",
    "    earl = ('https://dog.ceo/api/breed/')\n",
    "    r = requests.get(earl + i + '/list')\n",
    "    print(r.json())"
   ]
  },
  {
   "cell_type": "code",
   "execution_count": null,
   "metadata": {
    "collapsed": true
   },
   "outputs": [],
   "source": []
  }
 ],
 "metadata": {
  "kernelspec": {
   "display_name": "Python [Root]",
   "language": "python",
   "name": "Python [Root]"
  },
  "language_info": {
   "codemirror_mode": {
    "name": "ipython",
    "version": 3
   },
   "file_extension": ".py",
   "mimetype": "text/x-python",
   "name": "python",
   "nbconvert_exporter": "python",
   "pygments_lexer": "ipython3",
   "version": "3.5.2"
  }
 },
 "nbformat": 4,
 "nbformat_minor": 0
}
